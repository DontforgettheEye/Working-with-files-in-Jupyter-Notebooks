{
 "cells": [
  {
   "cell_type": "markdown",
   "id": "b73e44ec-6217-406b-b793-9f368ebc1b0e",
   "metadata": {},
   "source": [
    "# Data Science Tools and Ecosystem"
   ]
  },
  {
   "cell_type": "markdown",
   "id": "d2c1b721-c59f-4fd3-848e-4526b638cdcc",
   "metadata": {},
   "source": [
    "Objectives:\n",
    "- List popular languages for Data Science\n",
    "- List commonly used open source tools for Data Science\n",
    "- List commonly used libraries for Data Science"
   ]
  },
  {
   "cell_type": "markdown",
   "id": "d6d5dbd1-b249-49b8-8c19-b372150071dc",
   "metadata": {},
   "source": [
    "In this notebook, Data Science Tools and Ecosystem are summarized."
   ]
  },
  {
   "cell_type": "markdown",
   "id": "e7356f1f-d7a3-4ff9-abf2-259fbdcf1579",
   "metadata": {},
   "source": [
    "Some of the popular languages that Data Scientists use are:\n",
    "1. Python\n",
    "2. R\n",
    "3. C++\n",
    "4. C"
   ]
  },
  {
   "cell_type": "markdown",
   "id": "08543e27-035d-4900-9e80-2d4aa6254d91",
   "metadata": {},
   "source": [
    "Some of the commonly used libraries used by Data Scientists include:\n",
    "1. Pandas\n",
    "2. Numpy\n",
    "3. Matplotlib\n",
    "4. ggplot\n"
   ]
  },
  {
   "cell_type": "markdown",
   "id": "bf3f3f39-a695-401f-ab21-983c04682951",
   "metadata": {
    "tags": []
   },
   "source": [
    "| Data Science Tools |\n",
    "|--------------------|\n",
    "|Jupyterlab|\n",
    "|R studio|\n",
    "|Anaconda|\n"
   ]
  },
  {
   "cell_type": "markdown",
   "id": "d8599a2c-d7bf-47ab-8bd7-aa895056104b",
   "metadata": {
    "tags": []
   },
   "source": [
    "### Below are a few examples of evaluating arithmetic expressions in Python"
   ]
  },
  {
   "cell_type": "code",
   "execution_count": 5,
   "id": "24641465-b689-49d7-b025-01265a45a86b",
   "metadata": {
    "tags": []
   },
   "outputs": [
    {
     "data": {
      "text/plain": [
       "17"
      ]
     },
     "execution_count": 5,
     "metadata": {},
     "output_type": "execute_result"
    }
   ],
   "source": [
    "#This a simple arithmetic expression to mutiply then add integers\n",
    "(3*4)+5\n"
   ]
  },
  {
   "cell_type": "code",
   "execution_count": 6,
   "id": "d54ea8f1-5d29-498d-bec2-fcd364743eaf",
   "metadata": {
    "tags": []
   },
   "outputs": [
    {
     "data": {
      "text/plain": [
       "3.3333333333333335"
      ]
     },
     "execution_count": 6,
     "metadata": {},
     "output_type": "execute_result"
    }
   ],
   "source": [
    "#This will convert 200 minutes to hours by diving by 60\n",
    "200/60"
   ]
  },
  {
   "cell_type": "markdown",
   "id": "b02b1ad4-9bea-43cb-9d1f-bf8f6fae69f4",
   "metadata": {},
   "source": [
    "## Author\n",
    "Greig Roulston"
   ]
  },
  {
   "cell_type": "code",
   "execution_count": null,
   "id": "d08ce792-68a8-4e6c-902a-aff98da94201",
   "metadata": {},
   "outputs": [],
   "source": []
  }
 ],
 "metadata": {
  "kernelspec": {
   "display_name": "Python",
   "language": "python",
   "name": "conda-env-python-py"
  },
  "language_info": {
   "codemirror_mode": {
    "name": "ipython",
    "version": 3
   },
   "file_extension": ".py",
   "mimetype": "text/x-python",
   "name": "python",
   "nbconvert_exporter": "python",
   "pygments_lexer": "ipython3",
   "version": "3.7.12"
  }
 },
 "nbformat": 4,
 "nbformat_minor": 5
}
